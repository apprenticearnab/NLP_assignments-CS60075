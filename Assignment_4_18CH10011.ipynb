{
  "nbformat": 4,
  "nbformat_minor": 0,
  "metadata": {
    "colab": {
      "name": "Assignment_4_18CH10011.ipynb",
      "provenance": []
    },
    "kernelspec": {
      "name": "python3",
      "display_name": "Python 3"
    }
  },
  "cells": [
    {
      "cell_type": "code",
      "metadata": {
        "id": "sev7ftnOwW-0"
      },
      "source": [
        "# Imports\n",
        "import warnings\n",
        "warnings.filterwarnings('ignore')\n",
        "\n",
        "from itertools import chain\n",
        "import nltk\n",
        "import sklearn\n",
        "\n",
        "import sklearn_crfsuite\n",
        "from sklearn_crfsuite import scorers\n",
        "from sklearn_crfsuite import metrics"
      ],
      "execution_count": 51,
      "outputs": []
    },
    {
      "cell_type": "code",
      "metadata": {
        "id": "70gMIO6DwW-7"
      },
      "source": [
        "from io import open\n",
        "from conllu import parse, parse_tree, parse_incr\n",
        "\n",
        "# Data files\n",
        "train_df = 'hi-ud-train.conllu'\n",
        "test_df = 'hi-ud-test .conllu'\n",
        "\n",
        "# Extract Data function\n",
        "def extract_data(data_file, delimiter = ','):\n",
        "    corpus = open(data_file, \"r\", encoding=\"utf-8\").readlines()\n",
        "    sents = []\n",
        "    sample = []\n",
        "    for sent in corpus[1:]:\n",
        "        processed_sent = sent.strip('\\n').split(delimiter)\n",
        "        if processed_sent == ['', '', '']:\n",
        "            sents.append(sample)\n",
        "            sample = []\n",
        "        else:\n",
        "            sample.append(processed_sent)\n",
        "    return sents\n",
        "\n",
        "# Train\n",
        "train_sents = extract_data(train_df, ',')\n",
        "\n",
        "# Test\n",
        "test_sents = extract_data(test_df, '\\t')"
      ],
      "execution_count": 52,
      "outputs": []
    },
    {
      "cell_type": "markdown",
      "metadata": {
        "id": "JyLA-WU6t-9d"
      },
      "source": [
        "**List of Features**\n",
        "\n",
        "*   Is the first letter of the word capitalised?\n",
        "*   Is it the first word of the sentence?\n",
        "*   Is it the last word of the sentence?\n",
        "*   Is the complete word capitalised?\n",
        "*   What is the previous and the next word of the word?\n",
        "*   Is it a number?\n",
        "*   What are the first four suffixes and prefixes?\n",
        "*   Does it have a hyphen?\n",
        "\n",
        "**Justification :**\n",
        "Features are added for checking if the first letter of a certain word is capitalized or not , if the word is first or last word of a sentence as these can provide information about from which category the word belongs to. Suffices and Prefices were added to give a sense of the tense and word-form. Other small features(case, digit) were also included. Previous and Next words were included to give a sense of the context.Stemmed version of word was tried as well. But it gave negligible improvements in performance due to redundancy with word suffix, prefix-features.\n",
        "\n"
      ]
    },
    {
      "cell_type": "code",
      "metadata": {
        "id": "KKgAYAABD-oi"
      },
      "source": [
        "def features(sentence,index):\n",
        "    return {\n",
        "        'is_first_capital':int(sentence[index][:1].isupper()),\n",
        "        'is_first_word': int(index==0),\n",
        "        'is_last_word':int(index==len(sentence)-1),\n",
        "        'is_complete_capital': int(sentence[index].upper()==sentence[index]),\n",
        "        'prev_word':'' if index==0 else sentence[index-1],\n",
        "        'next_word':'' if index==len(sentence)-1 else sentence[index+1],\n",
        "        'is_numeric':int(sentence[index].isdigit()),\n",
        "        'prefix_1':sentence[index][:1],\n",
        "        'prefix_2': sentence[index][:2],\n",
        "        'prefix_3':sentence[index][:3],\n",
        "        'prefix_4':sentence[index][:4],\n",
        "        'suffix_1':sentence[index][:-1],\n",
        "        'suffix_2':sentence[index][-2:],\n",
        "        'suffix_3':sentence[index][-3:],\n",
        "        'suffix_4':sentence[index][-4:],\n",
        "        'word_has_hyphen': 1 if '-' in sentence[index] else 0  \n",
        "         }\n",
        "def untag(sentence):\n",
        "    return [token for index, token, postag in sentence]\n",
        "\n",
        "\n",
        "def prepareData(tagged_sentences):\n",
        "    X,y=[],[]\n",
        "    for sent in tagged_sentences:\n",
        "        X.append([features(untag(sent), index) for index in range(len(sent))])\n",
        "        y.append([postag for index, token, postag in sent])\n",
        "    return X,y\n",
        "X_train,y_train=prepareData(train_sents)\n",
        "X_test,y_test=prepareData(test_sents)"
      ],
      "execution_count": 53,
      "outputs": []
    },
    {
      "cell_type": "code",
      "metadata": {
        "id": "7GxkZL-8XSBD",
        "outputId": "e9487fee-392f-43f3-ac64-52b06e2cc665",
        "colab": {
          "base_uri": "https://localhost:8080/",
          "height": 136
        }
      },
      "source": [
        "from sklearn_crfsuite import CRF\n",
        "crf = CRF(\n",
        "    algorithm='lbfgs',\n",
        "    c1=0.01,\n",
        "    c2=0.1,\n",
        "    max_iterations=100,\n",
        "    all_possible_transitions=True\n",
        ")\n",
        "crf.fit(X_train, y_train)"
      ],
      "execution_count": 54,
      "outputs": [
        {
          "output_type": "execute_result",
          "data": {
            "text/plain": [
              "CRF(algorithm='lbfgs', all_possible_states=None, all_possible_transitions=True,\n",
              "    averaging=None, c=None, c1=0.01, c2=0.1, calibration_candidates=None,\n",
              "    calibration_eta=None, calibration_max_trials=None, calibration_rate=None,\n",
              "    calibration_samples=None, delta=None, epsilon=None, error_sensitive=None,\n",
              "    gamma=None, keep_tempfiles=None, linesearch=None, max_iterations=100,\n",
              "    max_linesearch=None, min_freq=None, model_filename=None, num_memories=None,\n",
              "    pa_type=None, period=None, trainer_cls=None, variance=None, verbose=False)"
            ]
          },
          "metadata": {
            "tags": []
          },
          "execution_count": 54
        }
      ]
    },
    {
      "cell_type": "code",
      "metadata": {
        "id": "odMLDJynXcqB",
        "outputId": "4c7faf1f-7540-4716-99ac-e1d739c85f31",
        "colab": {
          "base_uri": "https://localhost:8080/",
          "height": 71
        }
      },
      "source": [
        "labels = list(crf.classes_)\n",
        "print(\"All POS-labels in training data: \")\n",
        "print(labels)"
      ],
      "execution_count": 55,
      "outputs": [
        {
          "output_type": "stream",
          "text": [
            "All POS-labels in training data: \n",
            "['PROPN', 'ADP', 'ADV', 'ADJ', 'NOUN', 'NUM', 'AUX', 'PUNCT', 'PRON', 'VERB', 'CCONJ', 'DET', 'PART', 'COMMA', 'SCONJ', 'X']\n"
          ],
          "name": "stdout"
        }
      ]
    },
    {
      "cell_type": "code",
      "metadata": {
        "id": "TNBSuYM7wW_i",
        "outputId": "8c45ead7-96cc-41c1-8fc1-e0ced7007ab8",
        "colab": {
          "base_uri": "https://localhost:8080/",
          "height": 102
        }
      },
      "source": [
        "# Make predictions and generate metrics\n",
        "y_train_pred = crf.predict(X_train)\n",
        "f1 = metrics.flat_f1_score(y_train, y_train_pred, average='weighted', labels=labels)\n",
        "acc = metrics.flat_accuracy_score(y_train, y_train_pred)\n",
        "\n",
        "print(\"Results on Train set: \")\n",
        "print(\"Accuracy = {}, F1 score = {}\".format(acc, f1))\n",
        "print(\"-\"*70)\n",
        "\n",
        "y_pred = crf.predict(X_test)\n",
        "f1 = metrics.flat_f1_score(y_test, y_pred, average='weighted', labels=labels)\n",
        "acc = metrics.flat_accuracy_score(y_test, y_pred)\n",
        "\n",
        "print(\"Results on Test set: \")\n",
        "print(\"Accuracy = {}, F1 score = {}\".format(acc, f1))"
      ],
      "execution_count": 56,
      "outputs": [
        {
          "output_type": "stream",
          "text": [
            "Results on Train set: \n",
            "Accuracy = 0.9981571673028827, F1 score = 0.9981556140952121\n",
            "----------------------------------------------------------------------\n",
            "Results on Test set: \n",
            "Accuracy = 0.8552631578947368, F1 score = 0.852685712671489\n"
          ],
          "name": "stdout"
        }
      ]
    },
    {
      "cell_type": "code",
      "metadata": {
        "id": "5R5VexNswW_m",
        "outputId": "174b73ee-a8c9-4ad2-d8f0-f730223e260b",
        "colab": {
          "base_uri": "https://localhost:8080/",
          "height": 850
        }
      },
      "source": [
        "# Print Classification report\n",
        "# Sort Labels\n",
        "sorted_labels = sorted(\n",
        "    labels,\n",
        "    key=lambda name: (name[1:], name[0])\n",
        ")\n",
        "\n",
        "print(\"Results on Train Set: \")\n",
        "print(metrics.flat_classification_report(\n",
        "    y_train, y_train_pred, labels=sorted_labels, digits=3\n",
        "))\n",
        "\n",
        "print(\"-\"*70)\n",
        "\n",
        "print(\"Results on Test Set: \")\n",
        "print(metrics.flat_classification_report(\n",
        "    y_test, y_pred, labels=sorted_labels, digits=3\n",
        "))"
      ],
      "execution_count": 57,
      "outputs": [
        {
          "output_type": "stream",
          "text": [
            "Results on Train Set: \n",
            "              precision    recall  f1-score   support\n",
            "\n",
            "           X      1.000     1.000     1.000         2\n",
            "        PART      1.000     1.000     1.000       163\n",
            "       CCONJ      0.993     1.000     0.997       150\n",
            "       SCONJ      1.000     1.000     1.000        61\n",
            "         ADJ      1.000     1.000     1.000       569\n",
            "         ADP      0.999     1.000     1.000      1384\n",
            "         ADV      1.000     0.982     0.991       110\n",
            "        VERB      1.000     0.986     0.993       639\n",
            "         DET      0.996     0.996     0.996       229\n",
            "       COMMA      1.000     1.000     1.000       114\n",
            "        NOUN      0.999     1.000     1.000      1596\n",
            "        PRON      0.998     0.998     0.998       430\n",
            "       PROPN      1.000     0.999     0.999       707\n",
            "         NUM      1.000     1.000     1.000       152\n",
            "       PUNCT      1.000     1.000     1.000       563\n",
            "         AUX      0.988     1.000     0.994       728\n",
            "\n",
            "    accuracy                          0.998      7597\n",
            "   macro avg      0.998     0.997     0.998      7597\n",
            "weighted avg      0.998     0.998     0.998      7597\n",
            "\n",
            "----------------------------------------------------------------------\n",
            "Results on Test Set: \n",
            "              precision    recall  f1-score   support\n",
            "\n",
            "           X      0.000     0.000     0.000         0\n",
            "        PART      1.000     0.970     0.985        33\n",
            "       CCONJ      1.000     1.000     1.000        25\n",
            "       SCONJ      0.750     1.000     0.857         3\n",
            "         ADJ      0.680     0.723     0.701        94\n",
            "         ADP      0.961     0.977     0.969       303\n",
            "         ADV      0.688     0.524     0.595        21\n",
            "        VERB      0.869     0.869     0.869        99\n",
            "         DET      0.846     0.917     0.880        36\n",
            "       COMMA      0.000     0.000     0.000         0\n",
            "        NOUN      0.792     0.883     0.835       324\n",
            "        PRON      0.931     0.831     0.878        65\n",
            "       PROPN      0.667     0.514     0.580       144\n",
            "         NUM      0.667     0.880     0.759        25\n",
            "       PUNCT      1.000     0.851     0.919       134\n",
            "         AUX      0.910     0.949     0.929       138\n",
            "\n",
            "   micro avg      0.855     0.855     0.855      1444\n",
            "   macro avg      0.735     0.743     0.735      1444\n",
            "weighted avg      0.856     0.855     0.853      1444\n",
            "\n"
          ],
          "name": "stdout"
        }
      ]
    },
    {
      "cell_type": "markdown",
      "metadata": {
        "id": "-xsUuknB8BkN"
      },
      "source": [
        "**Hyperparameter Search using RandomizedSearchCV**"
      ]
    },
    {
      "cell_type": "code",
      "metadata": {
        "id": "c3kYcpsJwW_r",
        "outputId": "add6cb7d-69f3-4646-eec4-6e5c817cc709",
        "colab": {
          "base_uri": "https://localhost:8080/",
          "height": 394
        }
      },
      "source": [
        "# Hyperparameter Search\n",
        "\n",
        "import scipy.stats\n",
        "from sklearn.metrics import make_scorer\n",
        "from sklearn.model_selection import RandomizedSearchCV\n",
        "\n",
        "# Define fixed parameters and parameters to search\n",
        "crf = sklearn_crfsuite.CRF(\n",
        "    algorithm='lbfgs',\n",
        "    max_iterations=100,\n",
        "    all_possible_transitions=True\n",
        ")\n",
        "params_space = {\n",
        "    'c1': scipy.stats.expon(scale=0.1),\n",
        "    'c2': scipy.stats.expon(scale=0.1),\n",
        "}\n",
        "\n",
        "# Use the same metric for evaluation\n",
        "f1_scorer = make_scorer(metrics.flat_f1_score,\n",
        "                        average='weighted', labels=labels)\n",
        "\n",
        "# Search\n",
        "rs = RandomizedSearchCV(crf, params_space,\n",
        "                        cv=3,\n",
        "                        verbose=1,\n",
        "                        n_jobs=-1,\n",
        "                        n_iter=50,\n",
        "                        scoring=f1_scorer);\n",
        "rs.fit(X_train, y_train)"
      ],
      "execution_count": 45,
      "outputs": [
        {
          "output_type": "stream",
          "text": [
            "Fitting 3 folds for each of 50 candidates, totalling 150 fits\n"
          ],
          "name": "stdout"
        },
        {
          "output_type": "stream",
          "text": [
            "[Parallel(n_jobs=-1)]: Using backend LokyBackend with 2 concurrent workers.\n",
            "[Parallel(n_jobs=-1)]: Done  46 tasks      | elapsed:  1.2min\n",
            "[Parallel(n_jobs=-1)]: Done 150 out of 150 | elapsed:  3.6min finished\n"
          ],
          "name": "stderr"
        },
        {
          "output_type": "execute_result",
          "data": {
            "text/plain": [
              "RandomizedSearchCV(cv=3, error_score=nan,\n",
              "                   estimator=CRF(algorithm='lbfgs', all_possible_states=None,\n",
              "                                 all_possible_transitions=True, averaging=None,\n",
              "                                 c=None, c1=None, c2=None,\n",
              "                                 calibration_candidates=None,\n",
              "                                 calibration_eta=None,\n",
              "                                 calibration_max_trials=None,\n",
              "                                 calibration_rate=None,\n",
              "                                 calibration_samples=None, delta=None,\n",
              "                                 epsilon=None, error_sensitive=None, gamma=None,\n",
              "                                 keep_...\n",
              "                   param_distributions={'c1': <scipy.stats._distn_infrastructure.rv_frozen object at 0x7fa929926518>,\n",
              "                                        'c2': <scipy.stats._distn_infrastructure.rv_frozen object at 0x7fa929926710>},\n",
              "                   pre_dispatch='2*n_jobs', random_state=None, refit=True,\n",
              "                   return_train_score=False,\n",
              "                   scoring=make_scorer(flat_f1_score, average=weighted, labels=['PROPN', 'ADP', 'ADV', 'ADJ', 'NOUN', 'NUM', 'AUX', 'PUNCT', 'PRON', 'VERB', 'CCONJ', 'DET', 'PART', 'COMMA', 'SCONJ', 'X']),\n",
              "                   verbose=1)"
            ]
          },
          "metadata": {
            "tags": []
          },
          "execution_count": 45
        }
      ]
    },
    {
      "cell_type": "code",
      "metadata": {
        "id": "WZOqtL-QwW_v",
        "outputId": "79662c4e-3ff4-4f1a-8635-d9b47c42e49c",
        "colab": {
          "base_uri": "https://localhost:8080/",
          "height": 68
        }
      },
      "source": [
        "# Extract model with the best Cross-Validation Score in the train-set and corresponding values of the hyperparameters\n",
        "crf = rs.best_estimator_\n",
        "print('Best params:', rs.best_params_)\n",
        "print('Best CV score:', rs.best_score_)\n",
        "print('Model size: {:0.2f}M'.format(rs.best_estimator_.size_ / 1000000))"
      ],
      "execution_count": 46,
      "outputs": [
        {
          "output_type": "stream",
          "text": [
            "Best params: {'c1': 0.005378247046498694, 'c2': 0.16508957865144072}\n",
            "Best CV score: 0.8573447062309256\n",
            "Model size: 0.87M\n"
          ],
          "name": "stdout"
        }
      ]
    },
    {
      "cell_type": "code",
      "metadata": {
        "id": "SEwLg12PwW-p"
      },
      "source": [
        "# Import matplotlib\n",
        "import matplotlib.pyplot as plt\n",
        "plt.style.use('ggplot')\n",
        "%matplotlib inline"
      ],
      "execution_count": 48,
      "outputs": []
    },
    {
      "cell_type": "code",
      "metadata": {
        "id": "0IgrLzx7wW_z",
        "outputId": "b1e004f6-a590-49bb-a1f1-c483df6809c8",
        "colab": {
          "base_uri": "https://localhost:8080/",
          "height": 755
        }
      },
      "source": [
        "# Plotting parameter values and variation with score\n",
        "_x = rs.cv_results_[\"param_c1\"]\n",
        "_y = rs.cv_results_[\"param_c2\"]\n",
        "_c = rs.cv_results_[\"mean_test_score\"]\n",
        "\n",
        "fig = plt.figure()\n",
        "fig.set_size_inches(12, 12)\n",
        "ax = plt.gca()\n",
        "ax.set_yscale('log')\n",
        "ax.set_xscale('log')\n",
        "ax.set_xlabel('C1')\n",
        "ax.set_ylabel('C2')\n",
        "ax.set_title(\"Randomized Hyperparameter Search CV Results (min={:0.3}, max={:0.3})\".format(\n",
        "    min(_c), max(_c)\n",
        "))\n",
        "\n",
        "ax.scatter(_x, _y, c=_c, s=60, alpha=0.9, edgecolors=[0,0,0], cmap='gray')\n",
        "\n",
        "print(\"White => {:0.4}, Black => {:0.4}\".format(min(_c), max(_c)))"
      ],
      "execution_count": 49,
      "outputs": [
        {
          "output_type": "stream",
          "text": [
            "White => 0.8289, Black => 0.8573\n"
          ],
          "name": "stdout"
        },
        {
          "output_type": "display_data",
          "data": {
            "image/png": "[encoded data removed]",
            "text/plain": [
              "<Figure size 864x864 with 1 Axes>"
            ]
          },
          "metadata": {
            "tags": [],
            "needs_background": "light"
          }
        }
      ]
    },
    {
      "cell_type": "code",
      "metadata": {
        "id": "7GXaS_UhwW_3",
        "outputId": "c215c62e-87cc-4825-92e1-7fdc2be0b49e",
        "colab": {
          "base_uri": "https://localhost:8080/",
          "height": 850
        }
      },
      "source": [
        "# Print Classification report for the model after hyperparameter tuning\n",
        "# Best Model\n",
        "crf = rs.best_estimator_\n",
        "\n",
        "y_train_pred = crf.predict(X_train)\n",
        "print(\"Results on Train Set: \")\n",
        "print(metrics.flat_classification_report(\n",
        "    y_train, y_train_pred, labels=sorted_labels, digits=3\n",
        "))\n",
        "\n",
        "print(\"-\"*70)\n",
        "\n",
        "y_pred = crf.predict(X_test)\n",
        "print(\"Results on Test Set: \")\n",
        "print(metrics.flat_classification_report(\n",
        "    y_test, y_pred, labels=sorted_labels, digits=3\n",
        "))"
      ],
      "execution_count": 50,
      "outputs": [
        {
          "output_type": "stream",
          "text": [
            "Results on Train Set: \n",
            "              precision    recall  f1-score   support\n",
            "\n",
            "           X      1.000     1.000     1.000         2\n",
            "        PART      1.000     1.000     1.000       163\n",
            "       CCONJ      0.993     1.000     0.997       150\n",
            "       SCONJ      0.984     1.000     0.992        61\n",
            "         ADJ      1.000     1.000     1.000       569\n",
            "         ADP      0.998     0.999     0.999      1384\n",
            "         ADV      0.982     0.982     0.982       110\n",
            "        VERB      1.000     0.977     0.988       639\n",
            "         DET      0.996     0.991     0.993       229\n",
            "       COMMA      1.000     1.000     1.000       114\n",
            "        NOUN      0.999     0.999     0.999      1596\n",
            "        PRON      0.995     0.995     0.995       430\n",
            "       PROPN      1.000     0.996     0.998       707\n",
            "         NUM      1.000     1.000     1.000       152\n",
            "       PUNCT      1.000     1.000     1.000       563\n",
            "         AUX      0.981     1.000     0.990       728\n",
            "\n",
            "    accuracy                          0.997      7597\n",
            "   macro avg      0.995     0.996     0.996      7597\n",
            "weighted avg      0.997     0.997     0.997      7597\n",
            "\n",
            "----------------------------------------------------------------------\n",
            "Results on Test Set: \n",
            "              precision    recall  f1-score   support\n",
            "\n",
            "           X      0.000     0.000     0.000         0\n",
            "        PART      1.000     0.970     0.985        33\n",
            "       CCONJ      1.000     1.000     1.000        25\n",
            "       SCONJ      0.750     1.000     0.857         3\n",
            "         ADJ      0.683     0.734     0.708        94\n",
            "         ADP      0.961     0.977     0.969       303\n",
            "         ADV      0.667     0.476     0.556        21\n",
            "        VERB      0.869     0.869     0.869        99\n",
            "         DET      0.868     0.917     0.892        36\n",
            "       COMMA      0.000     0.000     0.000         0\n",
            "        NOUN      0.795     0.886     0.838       324\n",
            "        PRON      0.932     0.846     0.887        65\n",
            "       PROPN      0.673     0.514     0.583       144\n",
            "         NUM      0.667     0.880     0.759        25\n",
            "       PUNCT      1.000     0.851     0.919       134\n",
            "         AUX      0.903     0.949     0.926       138\n",
            "\n",
            "   micro avg      0.857     0.857     0.857      1444\n",
            "   macro avg      0.736     0.742     0.734      1444\n",
            "weighted avg      0.857     0.857     0.854      1444\n",
            "\n"
          ],
          "name": "stdout"
        }
      ]
    },
    {
      "cell_type": "code",
      "metadata": {
        "id": "oNzUDWZzwXAA",
        "outputId": "1943ee70-f467-4b88-9595-3ab35b6b25bc",
        "colab": {
          "base_uri": "https://localhost:8080/",
          "height": 442
        }
      },
      "source": [
        "# Generating Transition Features\n",
        "from collections import Counter\n",
        "\n",
        "def print_transitions(trans_features):\n",
        "    for (label_from, label_to), weight in trans_features:\n",
        "        print(\"%-6s -> %-7s %0.6f\" % (label_from, label_to, weight))\n",
        "\n",
        "print(\"Transition Features in Train-Set\")\n",
        "print(\"-\"*40)\n",
        "print(\"Top 10 likely transitions:\")\n",
        "print_transitions(Counter(crf.transition_features_).most_common(10))\n",
        "\n",
        "print(\"\\nTop 10 unlikely transitions:\")\n",
        "print_transitions(Counter(crf.transition_features_).most_common()[-10:])"
      ],
      "execution_count": 58,
      "outputs": [
        {
          "output_type": "stream",
          "text": [
            "Transition Features in Train-Set\n",
            "----------------------------------------\n",
            "Top 10 likely transitions:\n",
            "PROPN  -> PROPN   3.885384\n",
            "VERB   -> AUX     3.823892\n",
            "ADJ    -> NOUN    3.489311\n",
            "NUM    -> NOUN    2.380593\n",
            "DET    -> NOUN    2.276857\n",
            "NOUN   -> ADP     2.243182\n",
            "PROPN  -> ADP     2.210423\n",
            "NOUN   -> VERB    1.894061\n",
            "AUX    -> AUX     1.769882\n",
            "ADJ    -> VERB    1.602079\n",
            "\n",
            "Top 10 unlikely transitions:\n",
            "PRON   -> CCONJ   -1.346362\n",
            "ADP    -> AUX     -1.439019\n",
            "DET    -> PROPN   -1.452341\n",
            "ADP    -> COMMA   -1.478561\n",
            "DET    -> CCONJ   -1.480769\n",
            "ADJ    -> PRON    -1.594316\n",
            "CCONJ  -> AUX     -1.762735\n",
            "CCONJ  -> PART    -1.981091\n",
            "ADJ    -> ADP     -2.042011\n",
            "DET    -> ADP     -2.736387\n"
          ],
          "name": "stdout"
        }
      ]
    },
    {
      "cell_type": "code",
      "metadata": {
        "id": "qTRtEvKTwXAF",
        "outputId": "20e161de-f8ac-4eae-b6c0-b409bd2a8aef",
        "colab": {
          "base_uri": "https://localhost:8080/",
          "height": 442
        }
      },
      "source": [
        "# Generating Transition Features for Test set\n",
        "crf_dummy = sklearn_crfsuite.CRF(\n",
        "    algorithm='lbfgs',\n",
        "    c1=0.1,\n",
        "    c2=0.1,\n",
        "    max_iterations=100,\n",
        "    all_possible_transitions=True\n",
        ")\n",
        "crf_dummy.fit(X_test, y_test)\n",
        "\n",
        "print(\"Transition Features in Test-Set\")\n",
        "print(\"-\"*40)\n",
        "print(\"Top 10 likely transitions:\")\n",
        "print_transitions(Counter(crf_dummy.transition_features_).most_common(10))\n",
        "\n",
        "print(\"\\nTop 10 unlikely transitions:\")\n",
        "print_transitions(Counter(crf_dummy.transition_features_).most_common()[-10:])"
      ],
      "execution_count": 59,
      "outputs": [
        {
          "output_type": "stream",
          "text": [
            "Transition Features in Test-Set\n",
            "----------------------------------------\n",
            "Top 10 likely transitions:\n",
            "VERB   -> AUX     3.080618\n",
            "PROPN  -> PROPN   2.564716\n",
            "ADJ    -> NOUN    2.537360\n",
            "PROPN  -> ADP     2.130822\n",
            "AUX    -> AUX     1.960850\n",
            "NOUN   -> ADP     1.850322\n",
            "DET    -> NOUN    1.713826\n",
            "NUM    -> NOUN    1.663300\n",
            "NOUN   -> VERB    1.465476\n",
            "NUM    -> NUM     1.209100\n",
            "\n",
            "Top 10 unlikely transitions:\n",
            "AUX    -> ADP     -0.793504\n",
            "DET    -> ADP     -0.834493\n",
            "ADP    -> CCONJ   -0.854759\n",
            "VERB   -> PROPN   -0.959755\n",
            "PROPN  -> ADJ     -1.034799\n",
            "DET    -> PROPN   -1.110446\n",
            "AUX    -> VERB    -1.250181\n",
            "PROPN  -> AUX     -1.327473\n",
            "ADJ    -> ADP     -1.352714\n",
            "ADP    -> PUNCT   -1.474916\n"
          ],
          "name": "stdout"
        }
      ]
    }
  ]
}